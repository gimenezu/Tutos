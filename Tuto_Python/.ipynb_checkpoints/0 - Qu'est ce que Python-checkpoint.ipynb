{
 "cells": [
  {
   "cell_type": "markdown",
   "metadata": {},
   "source": [
    "# Qu'est ce que Python ?"
   ]
  },
  {
   "cell_type": "markdown",
   "metadata": {},
   "source": [
    "#### Langage de programmation"
   ]
  },
  {
   "cell_type": "markdown",
   "metadata": {},
   "source": [
    "Au coeur de l'ordinateur, les opérations se font avec un langage binaire (fait de 1 et 0). Bonjour se dit 01000010011011110110111001101010011011110111010101110010 en langage machine...\n",
    "Afin de communiquer avec l'ordinateur, nous avons besoin de programmation plus compréhensibles pour nous. \n",
    "\n",
    "Le langage de programmation (ex : Python) va s'occuper de traduire nos instructions en langage machine automatiquement. Un langage peut être haut niveau (proche du langage humain) ou bas niveau (proche du langage machine). Les langages haut niveau seront plus \"faciles\" à manipuler, mais moins rapides.\n",
    "\n",
    "Chaque langage se caractérise par un syntaxe bien précise. Lorsque l'on fait une faute de langage, (à un espace ou une virgule près, le langage nous fait remonter une erreur (et essaye de nous expliquer quel type d'erreur)"
   ]
  },
  {
   "cell_type": "markdown",
   "metadata": {},
   "source": [
    "#### Python, un langage interprété\n",
    "Python est un langage <strong> interprété </strong>, c'est à dire que que les instructions envoyés sont \"transcrites\" en langage machine en temps réel. D'autres langages sont appelés langages <strong> compilés </strong> : avant de les exécuter, un logiciel spécial va traduire les instructions en langage machine, c'est la compilation. \n",
    "Un langage interprété est plus simple, et il est portable sur différents OS (Windows, Linux...). Un langage compilé sera plus rapide (pas de traduction au fur et à mesure), même si la différence s'amenuise. "
   ]
  },
  {
   "cell_type": "markdown",
   "metadata": {},
   "source": [
    "#### Bibliothèques"
   ]
  },
  {
   "cell_type": "markdown",
   "metadata": {},
   "source": [
    "Python est un langage de programmation puissant et populaire. Il va permettre d'écrire des programmes courts (\"script\") ou des projets / des logiciels complets avec une arborescence de fichiers de scripts.\n",
    "\n",
    "Le \"package\" de base permet à l'utilisateur de faire des opérations classiques en programmation. Des fonctionnalités supplémentaires peuvent être ajoutés en important des <strong> bibliothèques </strong> : faire ciruculer des informations à travers un réseau, machine learning, interfaces graphiques. \n",
    "\n",
    "Les bibliothèques ont été créées par d'autres utilisateurs, la communauté de Python. Elles font toute la richesse de ce langage. "
   ]
  },
  {
   "cell_type": "markdown",
   "metadata": {},
   "source": [
    "## Installation"
   ]
  },
  {
   "cell_type": "markdown",
   "metadata": {},
   "source": [
    "#### Terminal"
   ]
  },
  {
   "cell_type": "markdown",
   "metadata": {},
   "source": [
    "L'installation se fait via le site internet de Python, puis on peut lancer avec un terminal (cmd). On écrit alors les instructions que l'on veut.\n",
    "\n",
    "<img src=\"img/cmd.JPG\">"
   ]
  },
  {
   "cell_type": "markdown",
   "metadata": {},
   "source": [
    "#### ILE & Ana"
   ]
  },
  {
   "cell_type": "markdown",
   "metadata": {},
   "source": [
    "Pour l'installation, il est préférable d'utiliser des distributions comme Anaconda qui installent de nombreuses bibliothèques et autres modules\n",
    "\n",
    "Pour l'environnement, il est préférable d'utiliser un IDE (Integrated Development Environment), plus agréable et plus fonctionnel. \n",
    "Pycharm est un exemple. A gauche, l'arborescence des fichiers de notre projet. Au milieu, nos scripts, à droite la console où l'on exécute nos scripts. \n",
    "\n",
    "<img src=\"img/Pycharm.JPG\">"
   ]
  },
  {
   "cell_type": "code",
   "execution_count": null,
   "metadata": {
    "collapsed": true
   },
   "outputs": [],
   "source": []
  },
  {
   "cell_type": "code",
   "execution_count": null,
   "metadata": {
    "collapsed": true
   },
   "outputs": [],
   "source": []
  },
  {
   "cell_type": "code",
   "execution_count": null,
   "metadata": {
    "collapsed": true
   },
   "outputs": [],
   "source": []
  },
  {
   "cell_type": "code",
   "execution_count": null,
   "metadata": {
    "collapsed": true
   },
   "outputs": [],
   "source": []
  }
 ],
 "metadata": {
  "kernelspec": {
   "display_name": "Python [conda root]",
   "language": "python",
   "name": "conda-root-py"
  },
  "language_info": {
   "codemirror_mode": {
    "name": "ipython",
    "version": 3
   },
   "file_extension": ".py",
   "mimetype": "text/x-python",
   "name": "python",
   "nbconvert_exporter": "python",
   "pygments_lexer": "ipython3",
   "version": "3.5.2"
  }
 },
 "nbformat": 4,
 "nbformat_minor": 1
}
