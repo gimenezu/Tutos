{
 "cells": [
  {
   "cell_type": "markdown",
   "metadata": {},
   "source": [
    "L’objectif du machine learning est de construire un modèle qui effectue une approximation de la réalité (le phénomène à l’origine des données), à l’aide duquel on va pouvoir effectuer des prédictions. Dans le cas \"supervisé\", le modèle va faire une prédiction Y parmi un choix prédéfini (classification parmi n labels, régression), à partir de variables X. <br>Afin que le modèle se spécialise (s'entraine) il utilise un jeu de données (x) dont on connait les résultats (y). <font color='red'> Revoir définitions</font>"
   ]
  },
  {
   "cell_type": "markdown",
   "metadata": {},
   "source": [
    "Régression, classification <font color='red'> others ?</font>"
   ]
  },
  {
   "cell_type": "markdown",
   "metadata": {},
   "source": [
    "### Workflow"
   ]
  },
  {
   "cell_type": "markdown",
   "metadata": {},
   "source": [
    "Workflow est toujours le même. Les données utilisés pour entrainer le modèle sont divisées en deux parties (train et validation). Quelque soit le modèle choisi (voir doc 2), on va l'entrainer de la même façon. Puis une fois le modèle entrainée, on pourra l'utiliser sur de nouvelles données dont on ne connait pas le résultat. <br> <font color='red'> Refaire avec 3 étapes, une train, une test, une avec nouvelles data on data pretrained. rajouter X et Y </font>. CERTAINS FONT MEME 3 JEUX DE DONNES\n",
    "<img src=\"img/supervisedworkflow.png\">\n"
   ]
  },
  {
   "cell_type": "markdown",
   "metadata": {},
   "source": [
    "1ere étape : On entraine le modèle choisi avec jeu de données \"train\". A partir des variables xtrain, on doit prévoir les résultats ytrain. Une fonction de coût va mesurer l'ampleur de l'erreur entre y prédit et y train.  <font color='red'> D'autres choses que gradient descent ? </font>. En utilisant le principe de descente de gradient (doc 3), on va modifier les réglages du modèle (tune) jusqu'à diminuer au maximum la fonction de coût. Le modèle est alors entrainé (on ne le modifiera plus)."
   ]
  },
  {
   "cell_type": "markdown",
   "metadata": {},
   "source": [
    "2eme étape: On estime la performance de notre modèle sur le jeu de données validation. Puisque le modèle n est pas \n",
    "optimisé pour ces données en particulier, on va évaluer sa performance sans être biaisé (problème d overfitting, à \n",
    "voir dans doc 3). Différentes manières existent pour connaitre performance d'un modèle (doc 4). "
   ]
  },
  {
   "cell_type": "markdown",
   "metadata": {},
   "source": [
    "3eme étape: il suffit maintenant d'appliquer le modèle sur de nouvelles données, dont on cherche à prédire la valeur y. "
   ]
  },
  {
   "cell_type": "code",
   "execution_count": null,
   "metadata": {},
   "outputs": [],
   "source": []
  },
  {
   "cell_type": "markdown",
   "metadata": {},
   "source": [
    " <font color='red'> Jeux et types de données. Multi variables X. </font> "
   ]
  },
  {
   "cell_type": "code",
   "execution_count": null,
   "metadata": {},
   "outputs": [],
   "source": []
  }
 ],
 "metadata": {
  "kernelspec": {
   "display_name": "Python 3",
   "language": "python",
   "name": "python3"
  },
  "language_info": {
   "codemirror_mode": {
    "name": "ipython",
    "version": 3
   },
   "file_extension": ".py",
   "mimetype": "text/x-python",
   "name": "python",
   "nbconvert_exporter": "python",
   "pygments_lexer": "ipython3",
   "version": "3.6.3"
  }
 },
 "nbformat": 4,
 "nbformat_minor": 2
}
