{
 "cells": [
  {
   "cell_type": "markdown",
   "metadata": {},
   "source": [
    "See wavelets families and get their names"
   ]
  },
  {
   "cell_type": "code",
   "execution_count": 4,
   "metadata": {},
   "outputs": [
    {
     "data": {
      "text/plain": [
       "['haar',\n",
       " 'db',\n",
       " 'sym',\n",
       " 'coif',\n",
       " 'bior',\n",
       " 'rbio',\n",
       " 'dmey',\n",
       " 'gaus',\n",
       " 'mexh',\n",
       " 'morl',\n",
       " 'cgau',\n",
       " 'shan',\n",
       " 'fbsp',\n",
       " 'cmor']"
      ]
     },
     "execution_count": 4,
     "metadata": {},
     "output_type": "execute_result"
    }
   ],
   "source": [
    "import pywt\n",
    "pywt.families()"
   ]
  },
  {
   "cell_type": "markdown",
   "metadata": {},
   "source": [
    "Wavelet object and properties"
   ]
  },
  {
   "cell_type": "code",
   "execution_count": 5,
   "metadata": {},
   "outputs": [
    {
     "name": "stdout",
     "output_type": "stream",
     "text": [
      "Wavelet db3\n",
      "  Family name:    Daubechies\n",
      "  Short name:     db\n",
      "  Filters length: 6\n",
      "  Orthogonal:     True\n",
      "  Biorthogonal:   True\n",
      "  Symmetry:       asymmetric\n",
      "  DWT:            True\n",
      "  CWT:            False\n"
     ]
    }
   ],
   "source": [
    "w = pywt.Wavelet('db3')\n",
    "print(w)"
   ]
  },
  {
   "cell_type": "code",
   "execution_count": 6,
   "metadata": {},
   "outputs": [
    {
     "name": "stdout",
     "output_type": "stream",
     "text": [
      "([0.03522629188570953, -0.08544127388202666, -0.13501102001025458, 0.45987750211849154, 0.8068915093110925, 0.33267055295008263], [-0.33267055295008263, 0.8068915093110925, -0.45987750211849154, -0.13501102001025458, 0.08544127388202666, 0.03522629188570953], [0.33267055295008263, 0.8068915093110925, 0.45987750211849154, -0.13501102001025458, -0.08544127388202666, 0.03522629188570953], [0.03522629188570953, 0.08544127388202666, -0.13501102001025458, -0.45987750211849154, 0.8068915093110925, -0.33267055295008263])\n",
      "[0.03522629188570953, -0.08544127388202666, -0.13501102001025458, 0.45987750211849154, 0.8068915093110925, 0.33267055295008263] [-0.33267055295008263, 0.8068915093110925, -0.45987750211849154, -0.13501102001025458, 0.08544127388202666, 0.03522629188570953] [0.33267055295008263, 0.8068915093110925, 0.45987750211849154, -0.13501102001025458, -0.08544127388202666, 0.03522629188570953] [0.03522629188570953, 0.08544127388202666, -0.13501102001025458, -0.45987750211849154, 0.8068915093110925, -0.33267055295008263]\n"
     ]
    }
   ],
   "source": [
    "print(w.filter_bank) #print 4 filter coefficient\n",
    "print(w.dec_lo, w.dec_hi, w.rec_lo, w.rec_hi)"
   ]
  },
  {
   "cell_type": "markdown",
   "metadata": {},
   "source": [
    "Creation of homemade wavelets, two ways"
   ]
  },
  {
   "cell_type": "code",
   "execution_count": 4,
   "metadata": {
    "collapsed": true
   },
   "outputs": [],
   "source": [
    "class MyHaarFilterBank(object):\n",
    "     @property\n",
    "     def filter_bank(self):\n",
    "         from math import sqrt\n",
    "         return ([sqrt(2)/2, sqrt(2)/2], [-sqrt(2)/2, sqrt(2)/2],\n",
    "                 [sqrt(2)/2, sqrt(2)/2], [sqrt(2)/2, -sqrt(2)/2])\n",
    "    \n",
    "my_wavelet = pywt.Wavelet('My Haar Wavelet', filter_bank=MyHaarFilterBank())"
   ]
  },
  {
   "cell_type": "code",
   "execution_count": 6,
   "metadata": {
    "collapsed": true
   },
   "outputs": [],
   "source": [
    "from math import sqrt\n",
    "my_filter_bank = ([sqrt(2)/2, sqrt(2)/2], [-sqrt(2)/2, sqrt(2)/2],[sqrt(2)/2, sqrt(2)/2], [sqrt(2)/2, -sqrt(2)/2])\n",
    "my_wavelet = pywt.Wavelet('My Haar Wavelet', filter_bank=my_filter_bank)"
   ]
  },
  {
   "cell_type": "markdown",
   "metadata": {},
   "source": [
    "Then, change arguments if necessary"
   ]
  },
  {
   "cell_type": "code",
   "execution_count": 7,
   "metadata": {
    "collapsed": true
   },
   "outputs": [],
   "source": [
    "my_wavelet.orthogonal = True"
   ]
  },
  {
   "cell_type": "code",
   "execution_count": null,
   "metadata": {
    "collapsed": true
   },
   "outputs": [],
   "source": []
  },
  {
   "cell_type": "code",
   "execution_count": 7,
   "metadata": {},
   "outputs": [
    {
     "ename": "NameError",
     "evalue": "name 'my_wavelet' is not defined",
     "output_type": "error",
     "traceback": [
      "\u001b[1;31m---------------------------------------------------------------------------\u001b[0m",
      "\u001b[1;31mNameError\u001b[0m                                 Traceback (most recent call last)",
      "\u001b[1;32m<ipython-input-7-816aba56d962>\u001b[0m in \u001b[0;36m<module>\u001b[1;34m()\u001b[0m\n\u001b[1;32m----> 1\u001b[1;33m \u001b[1;33m(\u001b[0m\u001b[0mphi_d\u001b[0m\u001b[1;33m,\u001b[0m \u001b[0mpsi_d\u001b[0m\u001b[1;33m,\u001b[0m \u001b[0mphi_r\u001b[0m\u001b[1;33m,\u001b[0m \u001b[0mpsi_r\u001b[0m\u001b[1;33m,\u001b[0m \u001b[0mx\u001b[0m\u001b[1;33m)\u001b[0m \u001b[1;33m=\u001b[0m \u001b[0mmy_wavelet\u001b[0m\u001b[1;33m.\u001b[0m\u001b[0mwavefun\u001b[0m\u001b[1;33m(\u001b[0m\u001b[0mlevel\u001b[0m\u001b[1;33m=\u001b[0m\u001b[1;36m5\u001b[0m\u001b[1;33m)\u001b[0m\u001b[1;33m\u001b[0m\u001b[0m\n\u001b[0m\u001b[0;32m      2\u001b[0m \u001b[0mprint\u001b[0m\u001b[1;33m(\u001b[0m\u001b[0mphi_d\u001b[0m\u001b[1;33m)\u001b[0m\u001b[1;33m\u001b[0m\u001b[0m\n\u001b[0;32m      3\u001b[0m \u001b[0mprint\u001b[0m\u001b[1;33m(\u001b[0m\u001b[0mphi_r\u001b[0m\u001b[1;33m)\u001b[0m\u001b[1;33m\u001b[0m\u001b[0m\n",
      "\u001b[1;31mNameError\u001b[0m: name 'my_wavelet' is not defined"
     ]
    }
   ],
   "source": [
    "(phi_d, psi_d, phi_r, psi_r, x) = my_wavelet.wavefun(level=5)\n",
    "print(phi_d)\n",
    "print(phi_r)"
   ]
  },
  {
   "cell_type": "raw",
   "metadata": {},
   "source": []
  },
  {
   "cell_type": "markdown",
   "metadata": {},
   "source": [
    "### Discrete wavelet transform"
   ]
  },
  {
   "cell_type": "markdown",
   "metadata": {},
   "source": [
    "Single level decomposition"
   ]
  },
  {
   "cell_type": "code",
   "execution_count": 11,
   "metadata": {},
   "outputs": [
    {
     "name": "stdout",
     "output_type": "stream",
     "text": [
      "(102,)\n",
      "(102,)\n"
     ]
    }
   ],
   "source": [
    "import numpy as np\n",
    "import pywt\n",
    "\n",
    "w = pywt.Wavelet('db3')\n",
    "data = np.random.rand(200)\n",
    "(x,y) = pywt.dwt(data, w)\n",
    "print(np.shape(x))\n",
    "print(np.shape(y))"
   ]
  },
  {
   "cell_type": "markdown",
   "metadata": {},
   "source": [
    "Multi level decomposition"
   ]
  },
  {
   "cell_type": "code",
   "execution_count": 23,
   "metadata": {},
   "outputs": [
    {
     "name": "stdout",
     "output_type": "stream",
     "text": [
      "(53,)\n",
      "(53,)\n",
      "(102,)\n"
     ]
    },
    {
     "ename": "TypeError",
     "evalue": "only length-1 arrays can be converted to Python scalars",
     "output_type": "error",
     "traceback": [
      "\u001b[1;31m---------------------------------------------------------------------------\u001b[0m",
      "\u001b[1;31mTypeError\u001b[0m                                 Traceback (most recent call last)",
      "\u001b[1;32m<ipython-input-23-fc39437dcbb4>\u001b[0m in \u001b[0;36m<module>\u001b[1;34m()\u001b[0m\n\u001b[0;32m      6\u001b[0m \u001b[0mprint\u001b[0m\u001b[1;33m(\u001b[0m\u001b[0mnp\u001b[0m\u001b[1;33m.\u001b[0m\u001b[0mshape\u001b[0m\u001b[1;33m(\u001b[0m\u001b[0mz\u001b[0m\u001b[1;33m)\u001b[0m\u001b[1;33m)\u001b[0m\u001b[1;33m\u001b[0m\u001b[0m\n\u001b[0;32m      7\u001b[0m \u001b[1;33m\u001b[0m\u001b[0m\n\u001b[1;32m----> 8\u001b[1;33m \u001b[0mX\u001b[0m \u001b[1;33m=\u001b[0m \u001b[0mpywt\u001b[0m\u001b[1;33m.\u001b[0m\u001b[0mdwt_max_level\u001b[0m\u001b[1;33m(\u001b[0m\u001b[0mdata\u001b[0m\u001b[1;33m,\u001b[0m \u001b[0mw\u001b[0m\u001b[1;33m)\u001b[0m\u001b[1;33m\u001b[0m\u001b[0m\n\u001b[0m",
      "\u001b[1;32m~\\Anaconda3\\lib\\site-packages\\pywt\\_dwt.py\u001b[0m in \u001b[0;36mdwt_max_level\u001b[1;34m(data_len, filter_len)\u001b[0m\n\u001b[0;32m     40\u001b[0m         \u001b[0mfilter_len\u001b[0m \u001b[1;33m=\u001b[0m \u001b[0mfilter_len\u001b[0m\u001b[1;33m.\u001b[0m\u001b[0mdec_len\u001b[0m\u001b[1;33m\u001b[0m\u001b[0m\n\u001b[0;32m     41\u001b[0m \u001b[1;33m\u001b[0m\u001b[0m\n\u001b[1;32m---> 42\u001b[1;33m     \u001b[1;32mreturn\u001b[0m \u001b[0m_dwt_max_level\u001b[0m\u001b[1;33m(\u001b[0m\u001b[0mdata_len\u001b[0m\u001b[1;33m,\u001b[0m \u001b[0mfilter_len\u001b[0m\u001b[1;33m)\u001b[0m\u001b[1;33m\u001b[0m\u001b[0m\n\u001b[0m\u001b[0;32m     43\u001b[0m \u001b[1;33m\u001b[0m\u001b[0m\n\u001b[0;32m     44\u001b[0m \u001b[1;33m\u001b[0m\u001b[0m\n",
      "\u001b[1;32mpywt\\_extensions\\_dwt.pyx\u001b[0m in \u001b[0;36mpywt._extensions._dwt.dwt_max_level\u001b[1;34m()\u001b[0m\n",
      "\u001b[1;31mTypeError\u001b[0m: only length-1 arrays can be converted to Python scalars"
     ]
    }
   ],
   "source": [
    "from pywt import wavedec\n",
    "\n",
    "x,y,z = wavedec(data, w, level=2)\n",
    "print(np.shape(x))\n",
    "print(np.shape(y))\n",
    "print(np.shape(z))\n"
   ]
  },
  {
   "cell_type": "markdown",
   "metadata": {},
   "source": []
  },
  {
   "cell_type": "markdown",
   "metadata": {},
   "source": [
    "### Inverse discrete wavelet transform"
   ]
  },
  {
   "cell_type": "code",
   "execution_count": 28,
   "metadata": {},
   "outputs": [
    {
     "data": {
      "image/png": "[encoded data removed]",
      "text/plain": [
       "<matplotlib.figure.Figure at 0x15d791a85c0>"
      ]
     },
     "metadata": {},
     "output_type": "display_data"
    },
    {
     "name": "stdout",
     "output_type": "stream",
     "text": [
      "[ -1.11022302e-16   1.11022302e-16   0.00000000e+00  -8.32667268e-17\n",
      "  -5.55111512e-17  -1.11022302e-16   0.00000000e+00  -1.11022302e-16\n",
      "   0.00000000e+00   1.38777878e-17  -5.55111512e-17   0.00000000e+00\n",
      "  -2.77555756e-17  -2.77555756e-17   5.55111512e-17  -1.11022302e-16\n",
      "   2.77555756e-17  -5.55111512e-17  -5.55111512e-17   0.00000000e+00\n",
      "  -1.11022302e-16  -1.11022302e-16   5.55111512e-17  -1.11022302e-16\n",
      "  -1.11022302e-16  -1.11022302e-16  -1.11022302e-16  -1.11022302e-16\n",
      "   0.00000000e+00   1.11022302e-16   0.00000000e+00  -1.11022302e-16\n",
      "   0.00000000e+00  -1.11022302e-16  -5.55111512e-17   0.00000000e+00\n",
      "   0.00000000e+00  -1.11022302e-16  -1.11022302e-16  -1.11022302e-16\n",
      "  -1.11022302e-16   1.11022302e-16   0.00000000e+00   0.00000000e+00\n",
      "   0.00000000e+00  -2.77555756e-17   2.77555756e-17  -1.11022302e-16\n",
      "   0.00000000e+00   0.00000000e+00]\n"
     ]
    }
   ],
   "source": [
    "import pywt\n",
    "import numpy as np\n",
    "import matplotlib.pyplot as plt\n",
    "data = np.random.rand(50)\n",
    "(cA, cD) = pywt.dwt(data, 'db2', 'smooth')\n",
    "dataRec = pywt.idwt(cA, cD, 'db2', 'smooth')\n",
    "plt.plot(dataRec, color='red', lw=0.5)\n",
    "plt.plot(data+0.1, color='blue', lw=0.5)\n",
    "plt.show()\n",
    "print(data-dataRec)"
   ]
  },
  {
   "cell_type": "markdown",
   "metadata": {},
   "source": [
    "One of the neat features of idwt() is that one of the cA and cD arguments can be set to None. In that situation the reconstruction will be performed using only the other one.  Mathematically speaking, this is equivalent to\n",
    "passing a zero-filled array as one of the arguments"
   ]
  },
  {
   "cell_type": "code",
   "execution_count": 30,
   "metadata": {},
   "outputs": [
    {
     "data": {
      "image/png": "[encoded data removed]",
      "text/plain": [
       "<matplotlib.figure.Figure at 0x15d79243d68>"
      ]
     },
     "metadata": {},
     "output_type": "display_data"
    },
    {
     "name": "stdout",
     "output_type": "stream",
     "text": [
      "[ -2.77555756e-17  -1.11022302e-16  -5.55111512e-17  -5.55111512e-17\n",
      "  -1.11022302e-16   0.00000000e+00  -5.55111512e-17   0.00000000e+00\n",
      "  -1.11022302e-16  -1.11022302e-16  -1.11022302e-16   2.77555756e-17\n",
      "  -2.77555756e-17   0.00000000e+00   0.00000000e+00  -1.11022302e-16\n",
      "  -1.11022302e-16  -8.32667268e-17  -1.11022302e-16  -2.22044605e-16\n",
      "   0.00000000e+00  -1.11022302e-16   0.00000000e+00  -1.11022302e-16\n",
      "  -1.11022302e-16  -2.22044605e-16   0.00000000e+00   0.00000000e+00\n",
      "  -1.11022302e-16  -1.11022302e-16  -1.11022302e-16   0.00000000e+00\n",
      "   0.00000000e+00  -1.11022302e-16   5.55111512e-17  -1.11022302e-16\n",
      "  -5.55111512e-17  -1.11022302e-16   2.77555756e-17   0.00000000e+00\n",
      "   0.00000000e+00  -1.11022302e-16  -1.11022302e-16   0.00000000e+00\n",
      "   0.00000000e+00  -1.11022302e-16  -5.55111512e-17   8.32667268e-17\n",
      "  -1.11022302e-16   0.00000000e+00]\n"
     ]
    }
   ],
   "source": [
    "import pywt\n",
    "import numpy as np\n",
    "import matplotlib.pyplot as plt\n",
    "data = np.random.rand(50)\n",
    "(cA, cD) = pywt.dwt(data, 'db2', 'smooth')\n",
    "dataRec = pywt.idwt(cA, cD, 'db2', 'smooth')\n",
    "\n",
    "\n",
    "\n",
    "(cA, cD) = pywt.dwt(data, 'db2', 'smooth')\n",
    "A = pywt.idwt(cA, None, 'db2', 'smooth')\n",
    "D = pywt.idwt(None, cD, 'db2', 'smooth')\n",
    "dataRec = A+D\n",
    "plt.plot(dataRec, color='red', lw=0.5)\n",
    "plt.plot(data+0.1, color='blue', lw=0.5)\n",
    "plt.show()\n",
    "print(data-dataRec)"
   ]
  }
 ],
 "metadata": {
  "kernelspec": {
   "display_name": "Python 3",
   "language": "python",
   "name": "python3"
  },
  "language_info": {
   "codemirror_mode": {
    "name": "ipython",
    "version": 3
   },
   "file_extension": ".py",
   "mimetype": "text/x-python",
   "name": "python",
   "nbconvert_exporter": "python",
   "pygments_lexer": "ipython3",
   "version": "3.6.2"
  }
 },
 "nbformat": 4,
 "nbformat_minor": 2
}
